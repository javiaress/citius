{
 "cells": [
  {
   "cell_type": "markdown",
   "id": "af156be5c9c72417",
   "metadata": {},
   "source": [
    "# Event log retrieval"
   ]
  },
  {
   "cell_type": "code",
   "execution_count": 1,
   "id": "442ce4a08963f20d",
   "metadata": {
    "ExecuteTime": {
     "end_time": "2024-07-04T11:31:05.642229Z",
     "start_time": "2024-07-04T11:31:05.016047Z"
    }
   },
   "outputs": [],
   "source": [
    "from verona.data import download"
   ]
  },
  {
   "cell_type": "markdown",
   "id": "cd8585a415287cb5",
   "metadata": {},
   "source": [
    "### Get the list of available datasets"
   ]
  },
  {
   "cell_type": "code",
   "execution_count": 3,
   "id": "3845f4f2f1ff194a",
   "metadata": {
    "ExecuteTime": {
     "end_time": "2024-07-04T11:31:40.032554Z",
     "start_time": "2024-07-04T11:31:40.029764Z"
    }
   },
   "outputs": [
    {
     "name": "stdout",
     "output_type": "stream",
     "text": [
      "Available datasets:\n",
      "\t- bpi2011: \"BPI Challenge 2011\"\n",
      "\t- bpi2012: \"BPI Challenge 2012\"\n",
      "\t- bpi2012comp: \"BPI Challenge 2012 Complete\"\n",
      "\t- bpi2012w: \"BPI Challenge 2012 W\"\n",
      "\t- bpi2012wcomp: \"BPI Challenge 2012 W Complete\"\n",
      "\t- bpi2012a: \"BPI Challenge 2012 A\"\n",
      "\t- bpi2012o: \"BPI Challenge 2012 O\"\n",
      "\t- bpi2013op: \"BPI Challenge 2013 Open Problems\"\n",
      "\t- bpi2013cp: \"BPI Challenge 2013 Closed Problems\"\n",
      "\t- bpi2013inc: \"BPI Challenge 2013 Incidents\"\n",
      "\t- bpi2015_1: \"BPI Challenge 2015 Municipality 1\"\n",
      "\t- bpi2015_2: \"BPI Challenge 2015 Municipality 2\"\n",
      "\t- bpi2015_3: \"BPI Challenge 2015 Municipality 3\"\n",
      "\t- bpi2015_4: \"BPI Challenge 2015 Municipality 4\"\n",
      "\t- bpi2015_5: \"BPI Challenge 2015 Municipality 5\"\n",
      "\t- bpi2017: \"BPI Challenge 2017\"\n",
      "\t- bpi2018: \"BPI Challenge 2018\"\n",
      "\t- bpi2019: \"BPI Challenge 2019\"\n",
      "\t- bpi2020domdec: \"BPI Challenge 2020 Domestic Declarations\"\n",
      "\t- bpi2020intdec: \"BPI Challenge 2020 International Declarations\"\n",
      "\t- bpi2020rfp: \"BPI Challenge 2020 Request For Payment\"\n",
      "\t- bpi2020tpd: \"BPI Challenge 2020 Travel Permit Data\"\n",
      "\t- bpi2020ptc: \"BPI Challenge 2020 Prepaid Travel Cost\"\n",
      "\t- helpdesk: \"Helpdesk\"\n",
      "\t- sepsis: \"SEPSIS\"\n",
      "\t- env_permit: \"env_permit\"\n",
      "\t- nasa: \"nasa\"\n"
     ]
    }
   ],
   "source": [
    "eventlog_list = download.get_available_datasets()"
   ]
  },
  {
   "cell_type": "markdown",
   "id": "bab37c11f0262903",
   "metadata": {},
   "source": [
    "### Download dataset"
   ]
  },
  {
   "cell_type": "code",
   "execution_count": 4,
   "id": "74746af73c6c1207",
   "metadata": {
    "ExecuteTime": {
     "end_time": "2024-07-04T11:33:47.141011Z",
     "start_time": "2024-07-04T11:33:46.101396Z"
    }
   },
   "outputs": [
    {
     "name": "stderr",
     "output_type": "stream",
     "text": [
      "Downloading helpdesk: 100%|██████████| 234k/234k [00:00<00:00, 104MB/s]\n"
     ]
    },
    {
     "data": {
      "application/vnd.jupyter.widget-view+json": {
       "model_id": "9b9f0e679bcf4ed4ba97795abeacd8c9",
       "version_major": 2,
       "version_minor": 0
      },
      "text/plain": [
       "parsing log, completed traces ::   0%|          | 0/4580 [00:00<?, ?it/s]"
      ]
     },
     "metadata": {},
     "output_type": "display_data"
    },
    {
     "data": {
      "text/plain": [
       "('./data/helpdesk.csv',\n",
       "                 concept:name lifecycle:transition org:resource  \\\n",
       " 0         Assign seriousness             complete      Value 2   \n",
       " 1      Take in charge ticket             complete      Value 2   \n",
       " 2             Resolve ticket             complete      Value 2   \n",
       " 3                     Closed             complete      Value 5   \n",
       " 4                     Closed             complete      Value 5   \n",
       " ...                      ...                  ...          ...   \n",
       " 21343     Assign seriousness             complete     Value 18   \n",
       " 21344        Require upgrade             complete      Value 1   \n",
       " 21345         Resolve ticket             complete      Value 2   \n",
       " 21346         Resolve ticket             complete      Value 2   \n",
       " 21347                 Closed             complete      Value 3   \n",
       " \n",
       "                  time:timestamp               Activity  Resource  \\\n",
       " 0     2010-01-13 08:40:25+00:00     Assign seriousness   Value 2   \n",
       " 1     2010-01-29 08:52:27+00:00  Take in charge ticket   Value 2   \n",
       " 2     2010-01-29 08:52:34+00:00         Resolve ticket   Value 2   \n",
       " 3     2010-02-13 08:52:48+00:00                 Closed   Value 5   \n",
       " 4     2010-02-13 08:52:48+00:00                 Closed   Value 5   \n",
       " ...                         ...                    ...       ...   \n",
       " 21343 2013-11-28 17:07:59+00:00     Assign seriousness  Value 18   \n",
       " 21344 2013-12-16 16:08:53+00:00        Require upgrade   Value 1   \n",
       " 21345 2013-12-17 09:28:06+00:00         Resolve ticket   Value 2   \n",
       " 21346 2013-12-17 09:28:07+00:00         Resolve ticket   Value 2   \n",
       " 21347 2014-01-01 09:28:25+00:00                 Closed   Value 3   \n",
       " \n",
       "       case:concept:name case:variant  case:variant-index    case:creator  \n",
       " 0              Case3608   Variant 33                  33  Fluxicon Disco  \n",
       " 1              Case3608   Variant 33                  33  Fluxicon Disco  \n",
       " 2              Case3608   Variant 33                  33  Fluxicon Disco  \n",
       " 3              Case3608   Variant 33                  33  Fluxicon Disco  \n",
       " 4              Case3608   Variant 33                  33  Fluxicon Disco  \n",
       " ...                 ...          ...                 ...             ...  \n",
       " 21343          Case1735   Variant 89                  89  Fluxicon Disco  \n",
       " 21344          Case1735   Variant 89                  89  Fluxicon Disco  \n",
       " 21345          Case1735   Variant 89                  89  Fluxicon Disco  \n",
       " 21346          Case1735   Variant 89                  89  Fluxicon Disco  \n",
       " 21347          Case1735   Variant 89                  89  Fluxicon Disco  \n",
       " \n",
       " [21348 rows x 10 columns])"
      ]
     },
     "execution_count": 4,
     "metadata": {},
     "output_type": "execute_result"
    }
   ],
   "source": [
    "dataset = download.get_dataset('helpdesk', store_path='./data/', extension='csv')\n",
    "dataset"
   ]
  },
  {
   "cell_type": "code",
   "execution_count": null,
   "id": "902804f94617063c",
   "metadata": {},
   "outputs": [],
   "source": []
  }
 ],
 "metadata": {
  "kernelspec": {
   "display_name": "Python 3 (ipykernel)",
   "language": "python",
   "name": "python3"
  },
  "language_info": {
   "codemirror_mode": {
    "name": "ipython",
    "version": 3
   },
   "file_extension": ".py",
   "mimetype": "text/x-python",
   "name": "python",
   "nbconvert_exporter": "python",
   "pygments_lexer": "ipython3",
   "version": "3.10.13"
  }
 },
 "nbformat": 4,
 "nbformat_minor": 5
}
